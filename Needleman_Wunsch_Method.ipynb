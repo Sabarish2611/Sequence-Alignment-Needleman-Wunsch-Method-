{
  "nbformat": 4,
  "nbformat_minor": 0,
  "metadata": {
    "colab": {
      "name": "IBS4_A4_1_53.ipynb",
      "provenance": [],
      "collapsed_sections": []
    },
    "kernelspec": {
      "name": "python3",
      "display_name": "Python 3"
    }
  },
  "cells": [
    {
      "cell_type": "markdown",
      "metadata": {
        "id": "Mg04c49bBYcq"
      },
      "source": [
        "Packages Imported\r\n",
        "\r\n"
      ]
    },
    {
      "cell_type": "code",
      "metadata": {
        "id": "Fb4J9KNb7xpZ"
      },
      "source": [
        "import numpy as np\r\n",
        "import pandas as pd\r\n",
        "import matplotlib.pyplot as plt"
      ],
      "execution_count": 1,
      "outputs": []
    },
    {
      "cell_type": "markdown",
      "metadata": {
        "id": "V1RBkDy4Bn4C"
      },
      "source": [
        "Input Sequence Here"
      ]
    },
    {
      "cell_type": "code",
      "metadata": {
        "id": "GPOZP-N68Pej"
      },
      "source": [
        "sequence_1 = 'CGCTCGCT'\r\n",
        "sequence_2 = 'CACTCGT'"
      ],
      "execution_count": 2,
      "outputs": []
    },
    {
      "cell_type": "markdown",
      "metadata": {
        "id": "gpHualjwBr5P"
      },
      "source": [
        "Comparing Strings"
      ]
    },
    {
      "cell_type": "code",
      "metadata": {
        "id": "m8_Cg8if9tbn"
      },
      "source": [
        "def compare(s1,s2):\r\n",
        "  l1 = len(s1)\r\n",
        "  l2 = len(s2)\r\n",
        "  \r\n",
        "  if l1 < l2:\r\n",
        "    temp = s1\r\n",
        "    s1 = s2\r\n",
        "    s2 = temp\r\n",
        "    l1 = len(s1)\r\n",
        "    l2 = len(s2)\r\n",
        "  return s1,s2,l1,l2"
      ],
      "execution_count": 3,
      "outputs": []
    },
    {
      "cell_type": "code",
      "metadata": {
        "id": "giKxBj-l_iE5"
      },
      "source": [
        "def score(m,s1,s2,i,j):\r\n",
        "  \r\n",
        "  s1,s2,l1,l2 = compare(s1,s2)\r\n",
        "  \r\n",
        "  u_score = m[i-1][j] - 2\r\n",
        "  s_score = m[i][j-1] - 2\r\n",
        "\r\n",
        "  d_score = 0\r\n",
        "\r\n",
        "  if s1[j-1] == s2[i-1]:\r\n",
        "    d_score += m[i-1][j-1] + 1\r\n",
        "  else:\r\n",
        "    d_score += m[i-1][j-1] - 1\r\n",
        "    \r\n",
        "  return max([u_score,s_score,d_score])"
      ],
      "execution_count": 4,
      "outputs": []
    },
    {
      "cell_type": "code",
      "metadata": {
        "id": "U_R0xv4NiVht"
      },
      "source": [
        "def Needleman_Wunsch_method(s1,s2):\r\n",
        "\r\n",
        "  s1,s2,l1,l2 = compare(s1,s2)\r\n",
        "  m = l2 + 1\r\n",
        "  n = l1 + 1\r\n",
        "\r\n",
        "  matrix = np.zeros((m,n),dtype=\"int\")\r\n",
        "  \r\n",
        "  for i in range(1,n):\r\n",
        "    matrix[0,i] += matrix[0,i-1] -2\r\n",
        "  \r\n",
        "  for i in range(1,m):\r\n",
        "    matrix[i,0] += matrix[i-1,0] -2\r\n",
        "  \r\n",
        "  for i in range(1,m):\r\n",
        "    for j in range(1,n):\r\n",
        "      matrix[i,j] = score(matrix,s1,s2,i,j)\r\n",
        "  \r\n",
        "  final = pd.DataFrame(matrix)\r\n",
        "\r\n",
        "  for i in range(1,n):\r\n",
        "    final.rename(columns= {final.columns[i] : s1[i-1]},inplace=True)\r\n",
        "\r\n",
        "  for i in range(1,m):\r\n",
        "    final.rename(index= {final.index[i] : s2[i-1]},inplace=True)\r\n",
        "\r\n",
        "  print(f\"{final}\")\r\n",
        "  return matrix"
      ],
      "execution_count": 5,
      "outputs": []
    },
    {
      "cell_type": "code",
      "metadata": {
        "id": "ej_qUxJtzYEh",
        "colab": {
          "base_uri": "https://localhost:8080/"
        },
        "outputId": "aefefdaf-2077-4ec2-865f-8bed0c86955c"
      },
      "source": [
        "matrix = Needleman_Wunsch_method(sequence_1,sequence_2)"
      ],
      "execution_count": 6,
      "outputs": [
        {
          "output_type": "stream",
          "text": [
            "    0   C  G  C  T   C   G   C   T\n",
            "0   0  -2 -4 -6 -8 -10 -12 -14 -16\n",
            "C  -2   1 -1 -3 -5  -7  -9 -11 -13\n",
            "A  -4  -1  0 -2 -4  -6  -8 -10 -12\n",
            "C  -6  -3 -2  1 -1  -3  -5  -7  -9\n",
            "T  -8  -5 -4 -1  2   0  -2  -4  -6\n",
            "C -10  -7 -6 -3  0   3   1  -1  -3\n",
            "G -12  -9 -6 -5 -2   1   4   2   0\n",
            "T -14 -11 -8 -7 -4  -1   2   3   3\n"
          ],
          "name": "stdout"
        }
      ]
    },
    {
      "cell_type": "code",
      "metadata": {
        "id": "GJRZ4Afp1f2r"
      },
      "source": [
        "def traceback_score(matrix,s1,s2,i,j):\r\n",
        "  s1,s2,l1,l2 = compare(s1,s2)\r\n",
        "\r\n",
        "  a = 0\r\n",
        "  b = 0\r\n",
        "\r\n",
        "  sequence = ''\r\n",
        "  \r\n",
        "  u_score = matrix[i-1][j]\r\n",
        "  s_score = matrix[i][j-1]\r\n",
        "\r\n",
        "  max_score = max(u_score,s_score)\r\n",
        "\r\n",
        "  if s1[j-1] == s2[i-1]:\r\n",
        "    a = i - 1\r\n",
        "    b = j - 1\r\n",
        "    sequence = s1[j-1]\r\n",
        "  else:\r\n",
        "    if max_score == u_score:\r\n",
        "      a = i - 1\r\n",
        "      b = j\r\n",
        "      sequence = '-'\r\n",
        "    elif max_score == s_score:\r\n",
        "      a = i\r\n",
        "      b = j - 1\r\n",
        "      sequence = '-'\r\n",
        "\r\n",
        "  return (a,b),sequence\r\n"
      ],
      "execution_count": 7,
      "outputs": []
    },
    {
      "cell_type": "code",
      "metadata": {
        "id": "-zjhPg2XmC65"
      },
      "source": [
        "def Traceback(matrix,s1,s2):\r\n",
        "  s1,s2,l1,l2 = compare(s1,s2)\r\n",
        "  m = l2\r\n",
        "  n = l1\r\n",
        "  trace = [(m,n)]\r\n",
        "  sequence = ''\r\n",
        "\r\n",
        "  i = m\r\n",
        "  j = n\r\n",
        "  while i > 0 and j > 0:\r\n",
        "    pos,s = traceback_score(matrix,s1,s2,i,j)\r\n",
        "    trace.append(pos)\r\n",
        "    sequence += s\r\n",
        "    i = pos[0]\r\n",
        "    j = pos[1]\r\n",
        "\r\n",
        "  s1 = '0' + s1\r\n",
        "  s2 = '0' + s2\r\n",
        "\r\n",
        "  print(f\"Sequence : {sequence[::-1]}\")\r\n",
        "  x = []\r\n",
        "  y = []\r\n",
        "\r\n",
        "  for i in range(len(trace)):\r\n",
        "    x.append(trace[i][0])\r\n",
        "    y.append(trace[i][1])\r\n",
        "  \r\n",
        "  plt.scatter(y,x,c='r')\r\n",
        "  plt.plot(y,x)\r\n",
        "  plt.tick_params(bottom = False,top = True,labelbottom=False,labeltop=True)\r\n",
        "  plt.xticks(np.arange(len(list(s1))),list(s1))\r\n",
        "  plt.yticks(np.arange(len(list(s2))),list(s2))\r\n",
        "  plt.ylim(len(s2),-1,-1)\r\n",
        "  plt.grid(True)\r\n",
        "  plt.show()"
      ],
      "execution_count": 8,
      "outputs": []
    },
    {
      "cell_type": "code",
      "metadata": {
        "colab": {
          "base_uri": "https://localhost:8080/",
          "height": 282
        },
        "id": "9Y3BG1yOyJNg",
        "outputId": "48b32bab-b743-407b-a986-7801a544a85e"
      },
      "source": [
        "Traceback(matrix,sequence_1,sequence_2)"
      ],
      "execution_count": 9,
      "outputs": [
        {
          "output_type": "stream",
          "text": [
            "Sequence : C--CTCG-T\n"
          ],
          "name": "stdout"
        },
        {
          "output_type": "display_data",
          "data": {
            "image/png": "[encoded data removed]",
            "text/plain": [
              "<Figure size 432x288 with 1 Axes>"
            ]
          },
          "metadata": {
            "tags": [],
            "needs_background": "light"
          }
        }
      ]
    }
  ]
}